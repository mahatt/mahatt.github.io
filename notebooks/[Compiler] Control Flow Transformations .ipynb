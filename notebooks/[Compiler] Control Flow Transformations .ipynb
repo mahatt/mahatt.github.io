{
 "cells": [
  {
   "cell_type": "markdown",
   "id": "98b00e4c",
   "metadata": {},
   "source": [
    "## Control Flow Transformations\n",
    "\n",
    "1) Simplification of Control Flow (simplifycfg)\n",
    "2) Structurize Control flow (structurzecfg)\n",
    "3) Unify Loop Exits\n",
    "4) Inline\n",
    "5) Loop \n",
    "\n",
    "\n",
    "### 1.Simplification of Control Flow Graph\n",
    "* iteratively simplifies  CFG of a function  until no changes are made   \n"
   ]
  },
  {
   "cell_type": "markdown",
   "id": "7100d994",
   "metadata": {},
   "source": [
    " + Removing  Unreachable blocks\n",
    " \n",
    "<div name=\"row\" style=\"clear: both; display: table\">\n",
    "   <h5> Unreachable basic blocks </h5>  \n",
    " <div name=\"column\" style=\"float: left; width: 50%; padding: 5px;\">  \n",
    "     Before\n",
    "    <img style=\"border: solid 2px lavender;\" src=\"./cfg/2011-03-08-UnreachableUse.ll/pre/func_29.svg\" alt=\"Pre\"/> \n",
    " </div>   \n",
    " <div name=\"column\" style=\"float: left; width: 50%; padding: 5px;\">   \n",
    "     After\n",
    "    <img style=\"border: solid 2px lavender;\" src=\"./cfg/2011-03-08-UnreachableUse.ll/post/func_29.svg\" alt=\"Pre\"/> \n",
    " </div>   \n",
    "    \n",
    " </div>"
   ]
  },
  {
   "cell_type": "markdown",
   "id": "00e5548a",
   "metadata": {},
   "source": [
    "    + Merge basic blocks in straight sequence \n",
    "\n",
    "<h5> PHI Elimination </h5> \n",
    " <div name=\"row\" style=\"clear: both; display: table\">\n",
    " <div name=\"column\" style=\"float: left; width: 50%; padding: 5px;\">  \n",
    "     Before\n",
    "    <img style=\"border: solid 2px lavender;\" src=\"./cfg/PHINode.ll/pre/main.svg\" alt=\"Pre\"/> \n",
    " </div>   \n",
    " <div name=\"column\" style=\"float: left; width: 50%; padding: 5px;\">   \n",
    "     After\n",
    "    <img style=\"border: solid 2px lavender;\" src=\"./cfg/PHINode.ll/post/main.svg\" alt=\"Pre\"/> \n",
    " </div>   \n",
    "    \n",
    " </div>"
   ]
  },
  {
   "cell_type": "markdown",
   "id": "b72b96cc",
   "metadata": {},
   "source": [
    "    + Do Control Flow Peephole\n",
    "        -Constant Propogation to terminator instruction"
   ]
  },
  {
   "cell_type": "markdown",
   "id": "08debf27",
   "metadata": {},
   "source": [
    "\n",
    "<div name=\"row\" style=\"clear: both; display: table\">\n",
    "    <h5> PHI Elimination with Constant Propogation and Unused basic blocks iterative</h5>  \n",
    " <div name=\"column\" style=\"float: left; width: 50%; padding: 5px;\">  \n",
    "     Before\n",
    "    <img style=\"border: solid 2px lavender;\" src=\"./cfg/2002-05-21-PHIElimination.ll/pre/test.svg\" alt=\"Pre\"/> \n",
    " </div>   \n",
    " <div name=\"column\" style=\"float: left; width: 50%; padding: 5px;\">   \n",
    "     After\n",
    "    <img style=\"border: solid 2px lavender;\" src=\"./cfg/2002-05-21-PHIElimination.ll/post/test.svg\" alt=\"Pre\"/> \n",
    " </div>   \n",
    "    \n",
    " </div>\n",
    " \n",
    " \n"
   ]
  },
  {
   "cell_type": "markdown",
   "id": "0f6b83cc",
   "metadata": {},
   "source": [
    "+ Merge all basic blocks that has function return  (single exit) (Tail Termination)\n",
    "<div name=\"row\" style=\"clear: both; display: table\">\n",
    "   <h5>PHI Elimination with Constant Propogation and Unused basic blocks </h5>  \n",
    " <div name=\"column\" style=\"float: left; width: 50%; padding: 5px;\">  \n",
    "     Before\n",
    "    <img style=\"border: solid 2px lavender;\" src=\"./cfg/2008-12-06-SingleEntryPhi.ll/pre/test.svg\" alt=\"Pre\"/> \n",
    " </div>   \n",
    " <div name=\"column\" style=\"float: left; width: 50%; padding: 5px;\">   \n",
    "     After\n",
    "    <img style=\"border: solid 2px lavender;\" src=\"./cfg/2008-12-06-SingleEntryPhi.ll/post/test.svg\" alt=\"Pre\"/> \n",
    " </div>   \n",
    "    \n",
    " </div>"
   ]
  },
  {
   "cell_type": "markdown",
   "id": "c06207a1",
   "metadata": {},
   "source": [
    "        - Eliminate duplicate Phi nodes"
   ]
  },
  {
   "cell_type": "markdown",
   "id": "83f8c6d7",
   "metadata": {},
   "source": [
    "<div name=\"row\" style=\"clear: both; display: table\">\n",
    "   <h5>Elimination of PHI with instruction combine</h5>  \n",
    " <div name=\"column\" style=\"float: left; width: 50%; padding: 5px;\">  \n",
    "     Before\n",
    "    <img style=\"border: solid 2px lavender;\" src=\"./cfg/duplicate-phis.ll/pre/foo.svg\" alt=\"Pre\"/> \n",
    " </div>   \n",
    " <div name=\"column\" style=\"float: left; width: 50%; padding: 5px;\">   \n",
    "     After\n",
    "    <img style=\"border: solid 2px lavender;\" src=\"./cfg/duplicate-phis.ll/post/foo.svg\" alt=\"Pre\"/> \n",
    " </div>   \n",
    "    \n",
    " </div>"
   ]
  },
  {
   "cell_type": "markdown",
   "id": "d019e8c6",
   "metadata": {},
   "source": [
    "        - Remove branch including UNDEF behaviour \n"
   ]
  },
  {
   "cell_type": "markdown",
   "id": "fdd01ada",
   "metadata": {},
   "source": [
    "<div name=\"row\" style=\"clear: both; display: table\">\n",
    "   <h5> Replace Undef phi with selection and exit blocks into one</h5>  \n",
    " <div name=\"column\" style=\"float: left; width: 50%; padding: 5px;\">  \n",
    "     Before\n",
    "    <img style=\"border: solid 2px lavender;\" src=\"./cfg/undef_phi.ll/pre/test_01.svg\" alt=\"Pre\"/> \n",
    " </div>   \n",
    " <div name=\"column\" style=\"float: left; width: 50%; padding: 5px;\">   \n",
    "     After\n",
    "    <img style=\"border: solid 2px lavender;\" src=\"./cfg/undef_phi.ll/post/test_01.svg\" alt=\"Pre\"/> \n",
    " </div>   \n",
    "    \n",
    " </div>"
   ]
  },
  {
   "cell_type": "markdown",
   "id": "7610ea0f",
   "metadata": {},
   "source": [
    "\n",
    "        - Merge common expression from two basic blocks"
   ]
  },
  {
   "cell_type": "markdown",
   "id": "473a741e",
   "metadata": {},
   "source": [
    "<div name=\"row\" style=\"clear: both; display: table\">\n",
    "   <h5>PHI  basic blocks Merge Case 1</h5>  \n",
    " <div name=\"column\" style=\"float: left; width: 50%; padding: 5px;\">  \n",
    "     Before\n",
    "    <img style=\"border: solid 2px lavender;\" src=\"./cfg/PhiBlockMerge.ll/pre/test.svg\" alt=\"Pre\"/> \n",
    " </div>   \n",
    " <div name=\"column\" style=\"float: left; width: 50%; padding: 5px;\">   \n",
    "     After\n",
    "    <img style=\"border: solid 2px lavender;\" src=\"./cfg/PhiBlockMerge.ll/post/test.svg\" alt=\"Pre\"/> \n",
    " </div>   \n",
    "    \n",
    " </div>"
   ]
  },
  {
   "cell_type": "markdown",
   "id": "c1f378c9",
   "metadata": {},
   "source": [
    "<div name=\"row\" style=\"clear: both; display: table\">\n",
    "   <h5>PHI  basic blocks Merge Case 2</h5>  \n",
    " <div name=\"column\" style=\"float: left; width: 50%; padding: 5px;\">  \n",
    "     Before\n",
    "    <img style=\"border: solid 2px lavender;\" src=\"./cfg/PhiBlockMerge.ll/pre/test.svg\" alt=\"Pre\"/> \n",
    " </div>   \n",
    " <div name=\"column\" style=\"float: left; width: 50%; padding: 5px;\">   \n",
    "     After\n",
    "    <img style=\"border: solid 2px lavender;\" src=\"./cfg/PhiBlockMerge.ll/post/test.svg\" alt=\"Pre\"/> \n",
    " </div>   \n",
    "    \n",
    " </div>"
   ]
  },
  {
   "cell_type": "markdown",
   "id": "c58b52fa",
   "metadata": {},
   "source": [
    "        - Simplification of individual Instruction like Branch,Switch\n",
    "<div name=\"row\" style=\"clear: both; display: table\">\n",
    "   <h5> Remove Switch</h5>  \n",
    " <div name=\"column\" style=\"float: left; width: 50%; padding: 5px;\">  \n",
    "     Before\n",
    "    <img style=\"border: solid 2px lavender;\" src=\"./cfg/switch-to-br.ll/pre/o.basic.dot.svg\" alt=\"Pre\"/> \n",
    " </div>   \n",
    " <div name=\"column\" style=\"float: left; width: 50%; padding: 5px;\">   \n",
    "     After\n",
    "    <img style=\"border: solid 2px lavender;\" src=\"./cfg/switch-to-br.ll/post/o.basic.dot.svg\" alt=\"Pre\"/> \n",
    " </div>   \n",
    "    \n",
    " </div>"
   ]
  },
  {
   "cell_type": "markdown",
   "id": "c2dd0c7b",
   "metadata": {},
   "source": [
    "<div name=\"row\" style=\"clear: both; display: table\">\n",
    "   <h5> Constant Switch</h5>  \n",
    " <div name=\"column\" style=\"float: left; width: 50%; padding: 5px;\">  \n",
    "     Before\n",
    "    <img style=\"border: solid 2px lavender;\" src=\"./cfg/switch-to-br.ll/pre/o.constant.dot.svg\" alt=\"Pre\"/> \n",
    " </div>   \n",
    " <div name=\"column\" style=\"float: left; width: 50%; padding: 5px;\">   \n",
    "     After\n",
    "    <img style=\"border: solid 2px lavender;\" src=\"./cfg/switch-to-br.ll/post/o.constant.dot.svg\" alt=\"Pre\"/> \n",
    " </div>   \n",
    "    \n",
    " </div>"
   ]
  },
  {
   "cell_type": "markdown",
   "id": "8b58947c",
   "metadata": {},
   "source": [
    "<div name=\"row\" style=\"clear: both; display: table\">\n",
    "   <h5> Unreachable Switch</h5>  \n",
    " <div name=\"column\" style=\"float: left; width: 50%; padding: 5px;\">  \n",
    "     Before\n",
    "    <img style=\"border: solid 2px lavender;\" src=\"./cfg/switch-to-br.ll/pre/o.unreachable.dot.svg\" alt=\"Pre\"/> \n",
    " </div>   \n",
    " <div name=\"column\" style=\"float: left; width: 50%; padding: 5px;\">   \n",
    "     After\n",
    "    <img style=\"border: solid 2px lavender;\" src=\"./cfg/switch-to-br.ll/post/o.unreachable.dot.svg\" alt=\"Pre\"/> \n",
    " </div>   \n",
    "    \n",
    " </div>"
   ]
  },
  {
   "cell_type": "markdown",
   "id": "4a5e0859",
   "metadata": {},
   "source": [
    "        \n",
    "* may change or remove control flow to put the CFG into a canonical form and can do peehole control flow transforms \n",
    "  + What is canonical CFG?   \n",
    "* may do IR level transformation for control flow which lead to non-canonical form\n",
    "* should always preserve dominator tree analysis!"
   ]
  },
  {
   "cell_type": "markdown",
   "id": "39af9b87",
   "metadata": {},
   "source": [
    "### Loop Transformation\n",
    "* Reference [LLVM LOOP Terminology](https://llvm.org/docs/LoopTerminology.html)"
   ]
  },
  {
   "cell_type": "markdown",
   "id": "52456d3c",
   "metadata": {},
   "source": []
  },
  {
   "cell_type": "code",
   "execution_count": null,
   "id": "b8dfea7e",
   "metadata": {},
   "outputs": [],
   "source": []
  },
  {
   "cell_type": "code",
   "execution_count": null,
   "id": "0ff14b96",
   "metadata": {},
   "outputs": [],
   "source": []
  }
 ],
 "metadata": {
  "kernelspec": {
   "display_name": "Python 3 (ipykernel)",
   "language": "python",
   "name": "python3"
  },
  "language_info": {
   "codemirror_mode": {
    "name": "ipython",
    "version": 3
   },
   "file_extension": ".py",
   "mimetype": "text/x-python",
   "name": "python",
   "nbconvert_exporter": "python",
   "pygments_lexer": "ipython3",
   "version": "3.10.11"
  }
 },
 "nbformat": 4,
 "nbformat_minor": 5
}
